{
 "cells": [
  {
   "cell_type": "code",
   "execution_count": 1,
   "id": "365d1b9d",
   "metadata": {},
   "outputs": [
    {
     "name": "stdout",
     "output_type": "stream",
     "text": [
      "WARNING:tensorflow:From C:\\Users\\agamjot tejnoor\\AppData\\Roaming\\Python\\Python311\\site-packages\\keras\\src\\losses.py:2976: The name tf.losses.sparse_softmax_cross_entropy is deprecated. Please use tf.compat.v1.losses.sparse_softmax_cross_entropy instead.\n",
      "\n"
     ]
    }
   ],
   "source": [
    "import numpy as np\n",
    "import pandas as pd\n",
    "from sklearn.model_selection import train_test_split\n",
    "from tensorflow.keras.preprocessing.text import Tokenizer\n",
    "from tensorflow.keras.preprocessing.sequence import pad_sequences\n",
    "from tensorflow.keras.models import Sequential\n",
    "from tensorflow.keras.layers import Embedding, LSTM, Dense, SpatialDropout1D\n"
   ]
  },
  {
   "cell_type": "code",
   "execution_count": 2,
   "id": "6389c1fb",
   "metadata": {},
   "outputs": [
    {
     "data": {
      "text/plain": [
       "class\n",
       "0    150000\n",
       "1    150000\n",
       "Name: count, dtype: int64"
      ]
     },
     "execution_count": 2,
     "metadata": {},
     "output_type": "execute_result"
    }
   ],
   "source": [
    "combined_df=pd.read_csv('toys.csv')\n",
    "combined_df['class'].value_counts()"
   ]
  },
  {
   "cell_type": "code",
   "execution_count": 3,
   "id": "88f284ad",
   "metadata": {},
   "outputs": [],
   "source": [
    "X = combined_df['reviewText'].values\n",
    "y = combined_df['class'].values"
   ]
  },
  {
   "cell_type": "code",
   "execution_count": 4,
   "id": "81a4f2d8",
   "metadata": {},
   "outputs": [],
   "source": [
    "# Tokenization\n",
    "max_words = 10000\n",
    "max_len = 100\n",
    "tokenizer = Tokenizer(num_words=max_words)\n",
    "tokenizer.fit_on_texts(X)\n",
    "X = tokenizer.texts_to_sequences(X)\n",
    "X = pad_sequences(X, maxlen=max_len)\n"
   ]
  },
  {
   "cell_type": "code",
   "execution_count": 5,
   "id": "3479784b",
   "metadata": {},
   "outputs": [],
   "source": [
    "# Train-test split\n",
    "X_train, X_test, y_train, y_test = train_test_split(X, y, test_size=0.2, random_state=42)"
   ]
  },
  {
   "cell_type": "code",
   "execution_count": 6,
   "id": "ed74b7d2",
   "metadata": {},
   "outputs": [
    {
     "name": "stdout",
     "output_type": "stream",
     "text": [
      "WARNING:tensorflow:From C:\\Users\\agamjot tejnoor\\AppData\\Roaming\\Python\\Python311\\site-packages\\keras\\src\\backend.py:873: The name tf.get_default_graph is deprecated. Please use tf.compat.v1.get_default_graph instead.\n",
      "\n"
     ]
    }
   ],
   "source": [
    "# Model Building\n",
    "model = Sequential()\n",
    "model.add(Embedding(input_dim=max_words, output_dim=128, input_length=max_len))\n",
    "model.add(LSTM(64))\n",
    "model.add(Dense(1, activation='sigmoid'))"
   ]
  },
  {
   "cell_type": "code",
   "execution_count": 7,
   "id": "cc85e344",
   "metadata": {},
   "outputs": [
    {
     "name": "stdout",
     "output_type": "stream",
     "text": [
      "WARNING:tensorflow:From C:\\Users\\agamjot tejnoor\\AppData\\Roaming\\Python\\Python311\\site-packages\\keras\\src\\optimizers\\__init__.py:309: The name tf.train.Optimizer is deprecated. Please use tf.compat.v1.train.Optimizer instead.\n",
      "\n"
     ]
    }
   ],
   "source": [
    "# Compile Model\n",
    "model.compile(loss='binary_crossentropy', optimizer='adam', metrics=['accuracy'])"
   ]
  },
  {
   "cell_type": "code",
   "execution_count": 8,
   "id": "d3156823",
   "metadata": {},
   "outputs": [
    {
     "name": "stdout",
     "output_type": "stream",
     "text": [
      "Epoch 1/5\n",
      "WARNING:tensorflow:From C:\\Users\\agamjot tejnoor\\AppData\\Roaming\\Python\\Python311\\site-packages\\keras\\src\\utils\\tf_utils.py:492: The name tf.ragged.RaggedTensorValue is deprecated. Please use tf.compat.v1.ragged.RaggedTensorValue instead.\n",
      "\n",
      "WARNING:tensorflow:From C:\\Users\\agamjot tejnoor\\AppData\\Roaming\\Python\\Python311\\site-packages\\keras\\src\\engine\\base_layer_utils.py:384: The name tf.executing_eagerly_outside_functions is deprecated. Please use tf.compat.v1.executing_eagerly_outside_functions instead.\n",
      "\n",
      "7500/7500 [==============================] - 478s 63ms/step - loss: 0.3149 - accuracy: 0.8677 - val_loss: 0.2737 - val_accuracy: 0.8875\n",
      "Epoch 2/5\n",
      "7500/7500 [==============================] - 657s 88ms/step - loss: 0.2501 - accuracy: 0.8986 - val_loss: 0.2662 - val_accuracy: 0.8913\n",
      "Epoch 3/5\n",
      "7500/7500 [==============================] - 673s 90ms/step - loss: 0.2176 - accuracy: 0.9141 - val_loss: 0.2709 - val_accuracy: 0.8914\n",
      "Epoch 4/5\n",
      "7500/7500 [==============================] - 670s 89ms/step - loss: 0.1876 - accuracy: 0.9275 - val_loss: 0.2887 - val_accuracy: 0.8883\n",
      "Epoch 5/5\n",
      "7500/7500 [==============================] - 525s 70ms/step - loss: 0.1596 - accuracy: 0.9395 - val_loss: 0.3109 - val_accuracy: 0.8829\n"
     ]
    },
    {
     "data": {
      "text/plain": [
       "<keras.src.callbacks.History at 0x2584f70bfd0>"
      ]
     },
     "execution_count": 8,
     "metadata": {},
     "output_type": "execute_result"
    }
   ],
   "source": [
    "# Model Training\n",
    "batch_size = 32\n",
    "epochs = 5\n",
    "model.fit(X_train, y_train, batch_size=batch_size, epochs=epochs, validation_data=(X_test, y_test))\n"
   ]
  },
  {
   "cell_type": "code",
   "execution_count": 9,
   "id": "50b2c4e1",
   "metadata": {},
   "outputs": [
    {
     "name": "stdout",
     "output_type": "stream",
     "text": [
      "1875/1875 [==============================] - 43s 23ms/step - loss: 0.3109 - accuracy: 0.8829\n",
      "Test Accuracy: 0.8828666806221008\n"
     ]
    }
   ],
   "source": [
    "# Model Evaluation\n",
    "loss, accuracy = model.evaluate(X_test, y_test)\n",
    "print(\"Test Accuracy:\", accuracy)"
   ]
  },
  {
   "cell_type": "code",
   "execution_count": 10,
   "id": "b69e07df",
   "metadata": {},
   "outputs": [],
   "source": [
    "model.save_weights('model_weights.h5')"
   ]
  },
  {
   "cell_type": "code",
   "execution_count": 11,
   "id": "28e90c36",
   "metadata": {},
   "outputs": [],
   "source": [
    "x1=tokenizer.texts_to_sequences(\"I recently purchased the Magic Castle Playset for my daughter's birthday, and it's been a total game-changer! This enchanting playset has transformed our living room into a magical kingdom where my daughter's imagination knows no bounds.The attention to detail in this playset is remarkable. From the turrets to the drawbridge, every feature is meticulously crafted to create an immersive experience. The vibrant colors and whimsical design instantly capture the imagination and transport kids to a world of adventure.\")"
   ]
  },
  {
   "cell_type": "code",
   "execution_count": 12,
   "id": "542e11b7",
   "metadata": {},
   "outputs": [],
   "source": [
    "x1=pad_sequences(x1, maxlen=max_len)"
   ]
  },
  {
   "cell_type": "code",
   "execution_count": 13,
   "id": "ee9aacc2",
   "metadata": {},
   "outputs": [
    {
     "name": "stdout",
     "output_type": "stream",
     "text": [
      "17/17 [==============================] - 1s 21ms/step\n"
     ]
    },
    {
     "data": {
      "text/plain": [
       "0.61380595"
      ]
     },
     "execution_count": 13,
     "metadata": {},
     "output_type": "execute_result"
    }
   ],
   "source": [
    "np.mean(model.predict(x1))"
   ]
  },
  {
   "cell_type": "code",
   "execution_count": 14,
   "id": "50120a9f",
   "metadata": {},
   "outputs": [],
   "source": [
    "x2=tokenizer.texts_to_sequences(\"I recently purchased the LEGO Creator Expert Roller Coaster set for my son's birthday, and it has been an absolute hit! This set is incredibly detailed and offers a challenging yet rewarding building experience for both kids and adults.The roller coaster itself is a masterpiece of engineering, with functioning tracks, cars, and even a chain lift mechanism. The attention to detail is remarkable, from the colorful design of the cars to the intricate structure of the track supports.What sets this set apart is its interactive features. Once assembled, the roller coaster can be manually operated, allowing kids to send the cars racing down the track with thrilling speed. The set also includes several minifigures and accessories, adding to the play value.As a parent, I appreciate the educational benefits of this set. Building the roller coaster requires patience, problem-solving skills, and attention to detail, helping to develop fine motor skills and spatial awareness in children.Overall, the LEGO Creator Expert Roller Coaster set has provided hours of entertainment and creative play for my son and his friends. It's a fantastic addition to any LEGO collection and offers endless opportunities for imaginative play. Highly recommend it to any LEGO enthusiast!\")"
   ]
  },
  {
   "cell_type": "code",
   "execution_count": 15,
   "id": "0a68a064",
   "metadata": {},
   "outputs": [],
   "source": [
    "x2=pad_sequences(x2, maxlen=max_len)"
   ]
  },
  {
   "cell_type": "code",
   "execution_count": 16,
   "id": "9e97a996",
   "metadata": {},
   "outputs": [
    {
     "name": "stdout",
     "output_type": "stream",
     "text": [
      "40/40 [==============================] - 1s 24ms/step\n"
     ]
    },
    {
     "data": {
      "text/plain": [
       "0.61740065"
      ]
     },
     "execution_count": 16,
     "metadata": {},
     "output_type": "execute_result"
    }
   ],
   "source": [
    "np.mean(model.predict(x2))"
   ]
  },
  {
   "cell_type": "code",
   "execution_count": null,
   "id": "1854a527",
   "metadata": {},
   "outputs": [],
   "source": []
  }
 ],
 "metadata": {
  "kernelspec": {
   "display_name": "Python 3 (ipykernel)",
   "language": "python",
   "name": "python3"
  },
  "language_info": {
   "codemirror_mode": {
    "name": "ipython",
    "version": 3
   },
   "file_extension": ".py",
   "mimetype": "text/x-python",
   "name": "python",
   "nbconvert_exporter": "python",
   "pygments_lexer": "ipython3",
   "version": "3.11.5"
  }
 },
 "nbformat": 4,
 "nbformat_minor": 5
}
