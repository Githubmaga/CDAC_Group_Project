{
  "cells": [
    {
      "cell_type": "code",
      "execution_count": null,
      "metadata": {
        "id": "7SQjNa-KmARB"
      },
      "outputs": [],
      "source": [
        "import numpy as np\n",
        "import pandas as pd\n",
        "from sklearn.model_selection import train_test_split\n",
        "from tensorflow.keras.preprocessing.text import Tokenizer\n",
        "from tensorflow.keras.preprocessing.sequence import pad_sequences\n",
        "from tensorflow.keras.models import Sequential\n",
        "from tensorflow.keras.layers import Embedding, GRU, Dense,Dropout\n",
        "from sklearn.feature_extraction.text import ENGLISH_STOP_WORDS"
      ]
    },
    {
      "cell_type": "code",
      "execution_count": null,
      "metadata": {
        "id": "1PFq2MhyogHk"
      },
      "outputs": [],
      "source": [
        "combined_df=pd.read_csv('/content/drive/MyDrive/combined.csv')"
      ]
    },
    {
      "cell_type": "code",
      "execution_count": null,
      "metadata": {
        "colab": {
          "base_uri": "https://localhost:8080/"
        },
        "id": "3tZ43uG6ov24",
        "outputId": "38af1dbb-7c9a-489a-d07e-820bf14ee66a"
      },
      "outputs": [
        {
          "data": {
            "text/plain": [
              "1    900000\n",
              "0    900000\n",
              "Name: class, dtype: int64"
            ]
          },
          "execution_count": 3,
          "metadata": {},
          "output_type": "execute_result"
        }
      ],
      "source": [
        "combined_df['class'].value_counts()"
      ]
    },
    {
      "cell_type": "code",
      "execution_count": null,
      "metadata": {
        "id": "opQBdObOozg4"
      },
      "outputs": [],
      "source": [
        "X = combined_df['reviewText'].values\n",
        "y = combined_df['class'].values"
      ]
    },
    {
      "cell_type": "code",
      "execution_count": null,
      "metadata": {
        "id": "BUJ879d7o40T"
      },
      "outputs": [],
      "source": [
        "def preprocess_text(text):\n",
        "    # Remove stopwords\n",
        "    cleaned_text = ' '.join([word for word in text.split() if word.lower() not in ENGLISH_STOP_WORDS])\n",
        "    # Clean the text further as needed (e.g., removing punctuation, lowering, stemming, etc.)\n",
        "    cleaned_text = cleaned_text.lower()\n",
        "    # Return cleaned text\n",
        "    return cleaned_text\n"
      ]
    },
    {
      "cell_type": "code",
      "execution_count": null,
      "metadata": {
        "id": "zrZuRDdppFOq"
      },
      "outputs": [],
      "source": [
        "X = [preprocess_text(text) for text in X]"
      ]
    },
    {
      "cell_type": "code",
      "execution_count": null,
      "metadata": {
        "id": "poDoTnphpF8n"
      },
      "outputs": [],
      "source": [
        "# Tokenization\n",
        "max_words = 10000\n",
        "max_len = 100\n",
        "tokenizer = Tokenizer(num_words=max_words)\n",
        "tokenizer.fit_on_texts(X)\n",
        "X = tokenizer.texts_to_sequences(X)\n",
        "X= pad_sequences(X, maxlen=max_len)"
      ]
    },
    {
      "cell_type": "code",
      "execution_count": null,
      "metadata": {
        "id": "M3SwKeUipcA7"
      },
      "outputs": [],
      "source": [
        "# Train-test split\n",
        "X_train, X_test, y_train, y_test = train_test_split(X, y, test_size=0.2, random_state=42)"
      ]
    },
    {
      "cell_type": "code",
      "execution_count": null,
      "metadata": {
        "id": "VaV67z01pc7P"
      },
      "outputs": [],
      "source": [
        "# Define your model\n",
        "embedding_dim = 50  # Dimension of the word embeddings\n",
        "gru_units = 64  # Number of units in the GRU layer\n",
        "\n",
        "model = Sequential([\n",
        "    Embedding(input_dim=len(tokenizer.word_index)+1,output_dim=128, input_length=max_len),\n",
        "    GRU(gru_units, return_sequences=True),\n",
        "    GRU(gru_units),\n",
        "    Dense(64, activation='relu'),\n",
        "    Dropout(0.5),\n",
        "    Dense(1, activation='sigmoid')\n",
        "])"
      ]
    },
    {
      "cell_type": "code",
      "execution_count": null,
      "metadata": {
        "id": "BIVuL50TpgZT"
      },
      "outputs": [],
      "source": [
        "model.compile(optimizer='adam', loss='binary_crossentropy', metrics=['accuracy'])"
      ]
    },
    {
      "cell_type": "code",
      "execution_count": null,
      "metadata": {
        "colab": {
          "background_save": true,
          "base_uri": "https://localhost:8080/"
        },
        "id": "8mBda6QvplmY",
        "outputId": "7e172fad-707a-4a51-bf42-510134f067c5"
      },
      "outputs": [
        {
          "name": "stdout",
          "output_type": "stream",
          "text": [
            "Epoch 1/5\n",
            " 3365/22500 [===>..........................] - ETA: 8:31:34 - loss: 0.3847 - accuracy: 0.8297"
          ]
        }
      ],
      "source": [
        "# Train the model\n",
        "model.fit(X_train, y_train, epochs=5, batch_size=64, validation_data=(X_test, y_test))"
      ]
    },
    {
      "cell_type": "code",
      "execution_count": null,
      "metadata": {
        "id": "DC18Ckkiprc3"
      },
      "outputs": [],
      "source": []
    }
  ],
  "metadata": {
    "accelerator": "GPU",
    "colab": {
      "gpuType": "T4",
      "provenance": []
    },
    "kernelspec": {
      "display_name": "Python 3",
      "name": "python3"
    },
    "language_info": {
      "name": "python"
    }
  },
  "nbformat": 4,
  "nbformat_minor": 0
}