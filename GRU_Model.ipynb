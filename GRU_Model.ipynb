{
  "nbformat": 4,
  "nbformat_minor": 0,
  "metadata": {
    "colab": {
      "provenance": [],
      "gpuType": "T4"
    },
    "kernelspec": {
      "name": "python3",
      "display_name": "Python 3"
    },
    "language_info": {
      "name": "python"
    },
    "accelerator": "GPU"
  },
  "cells": [
    {
      "cell_type": "code",
      "source": [],
      "metadata": {
        "id": "hr9QolFTgguR"
      },
      "execution_count": null,
      "outputs": []
    },
    {
      "cell_type": "code",
      "source": [
        "from google.colab import drive\n",
        "drive.mount('/content/drive')"
      ],
      "metadata": {
        "colab": {
          "base_uri": "https://localhost:8080/"
        },
        "id": "EtJRNjxEg90a",
        "outputId": "97d14ddf-9c2d-4f37-e8da-630cd030d6c6"
      },
      "execution_count": 1,
      "outputs": [
        {
          "output_type": "stream",
          "name": "stdout",
          "text": [
            "Mounted at /content/drive\n"
          ]
        }
      ]
    },
    {
      "cell_type": "code",
      "execution_count": 2,
      "metadata": {
        "id": "ePo4fjk7gSMh"
      },
      "outputs": [],
      "source": [
        "import numpy as np\n",
        "import pandas as pd\n",
        "from sklearn.model_selection import train_test_split\n",
        "from tensorflow.keras.preprocessing.text import Tokenizer\n",
        "from tensorflow.keras.preprocessing.sequence import pad_sequences\n",
        "from tensorflow.keras.models import Sequential\n",
        "from tensorflow.keras.layers import Embedding, GRU, Dense,Dropout\n",
        "from sklearn.feature_extraction.text import ENGLISH_STOP_WORDS"
      ]
    },
    {
      "cell_type": "code",
      "source": [
        "combined_df=pd.read_csv('/content/drive/MyDrive/Project_Dataset(Amazon)/combined.csv')"
      ],
      "metadata": {
        "id": "z-khWXsMghg6"
      },
      "execution_count": 3,
      "outputs": []
    },
    {
      "cell_type": "code",
      "source": [
        "combined_df['class'].value_counts()"
      ],
      "metadata": {
        "colab": {
          "base_uri": "https://localhost:8080/"
        },
        "id": "_ht3FDs3ghdg",
        "outputId": "21a9f3f2-d9f7-4e83-8449-1350a6317141"
      },
      "execution_count": 4,
      "outputs": [
        {
          "output_type": "execute_result",
          "data": {
            "text/plain": [
              "1    900000\n",
              "0    900000\n",
              "Name: class, dtype: int64"
            ]
          },
          "metadata": {},
          "execution_count": 4
        }
      ]
    },
    {
      "cell_type": "code",
      "source": [
        "X = combined_df['reviewText']\n",
        "y = combined_df['class']"
      ],
      "metadata": {
        "id": "psseu2owghYu"
      },
      "execution_count": 5,
      "outputs": []
    },
    {
      "cell_type": "code",
      "source": [
        "def preprocess_text(text):\n",
        "    # Remove stopwords\n",
        "    cleaned_text = ' '.join([word for word in text.split() if word.lower() not in ENGLISH_STOP_WORDS])\n",
        "    # Clean the text further as needed (e.g., removing punctuation, lowering, stemming, etc.)\n",
        "    cleaned_text = cleaned_text.lower()\n",
        "    # Return cleaned text\n",
        "    return cleaned_text\n"
      ],
      "metadata": {
        "id": "Aa-KCvD5ghT5"
      },
      "execution_count": 6,
      "outputs": []
    },
    {
      "cell_type": "code",
      "source": [
        "X = [preprocess_text(text) for text in X]"
      ],
      "metadata": {
        "id": "vXYYQ-Z9ghPX"
      },
      "execution_count": 7,
      "outputs": []
    },
    {
      "cell_type": "code",
      "source": [
        "# Tokenization\n",
        "max_words = 10000\n",
        "max_len = 100\n",
        "tokenizer = Tokenizer(num_words=max_words)\n",
        "tokenizer.fit_on_texts(X)\n",
        "X = tokenizer.texts_to_sequences(X)\n",
        "X= pad_sequences(X, maxlen=max_len)"
      ],
      "metadata": {
        "id": "bVaTlPjIghHu"
      },
      "execution_count": 8,
      "outputs": []
    },
    {
      "cell_type": "code",
      "source": [
        "# Train-test split\n",
        "X_train, X_test, y_train, y_test = train_test_split(X, y, test_size=0.2, random_state=42)"
      ],
      "metadata": {
        "id": "iS1IkAKqgrsY"
      },
      "execution_count": 9,
      "outputs": []
    },
    {
      "cell_type": "code",
      "source": [
        "# Define your model\n",
        "embedding_dim = 50  # Dimension of the word embeddings\n",
        "gru_units = 64  # Number of units in the GRU layer\n",
        "\n",
        "model = Sequential([\n",
        "    Embedding(input_dim=len(tokenizer.word_index)+1,output_dim=128, input_length=max_len),\n",
        "    GRU(gru_units, return_sequences=True),\n",
        "    GRU(gru_units),\n",
        "    Dense(64, activation='relu'),\n",
        "    Dropout(0.5),\n",
        "    Dense(1, activation='sigmoid')\n",
        "])"
      ],
      "metadata": {
        "id": "1mDWa1qHgro8"
      },
      "execution_count": 10,
      "outputs": []
    },
    {
      "cell_type": "code",
      "source": [
        "model.compile(optimizer='adam', loss='binary_crossentropy', metrics=['accuracy'])"
      ],
      "metadata": {
        "id": "ukbEbncPgrl0"
      },
      "execution_count": 11,
      "outputs": []
    },
    {
      "cell_type": "code",
      "source": [
        "# Train the model\n",
        "history = model.fit(X_train, y_train, epochs=5, batch_size=64, validation_data=(X_test, y_test))"
      ],
      "metadata": {
        "colab": {
          "base_uri": "https://localhost:8080/"
        },
        "id": "3mCzcy9dgrit",
        "outputId": "154893c1-5479-49f2-9a52-a2693f00165a"
      },
      "execution_count": 12,
      "outputs": [
        {
          "output_type": "stream",
          "name": "stdout",
          "text": [
            "Epoch 1/5\n",
            "22500/22500 [==============================] - 599s 26ms/step - loss: 0.3296 - accuracy: 0.8589 - val_loss: 0.3025 - val_accuracy: 0.8705\n",
            "Epoch 2/5\n",
            "22500/22500 [==============================] - 548s 24ms/step - loss: 0.2866 - accuracy: 0.8804 - val_loss: 0.2924 - val_accuracy: 0.8765\n",
            "Epoch 3/5\n",
            "22500/22500 [==============================] - 541s 24ms/step - loss: 0.2644 - accuracy: 0.8913 - val_loss: 0.2913 - val_accuracy: 0.8768\n",
            "Epoch 4/5\n",
            "22500/22500 [==============================] - 529s 24ms/step - loss: 0.2446 - accuracy: 0.9006 - val_loss: 0.3006 - val_accuracy: 0.8749\n",
            "Epoch 5/5\n",
            "22500/22500 [==============================] - 543s 24ms/step - loss: 0.2262 - accuracy: 0.9092 - val_loss: 0.3078 - val_accuracy: 0.8726\n"
          ]
        }
      ]
    },
    {
      "cell_type": "code",
      "source": [
        "model.save('/content/drive/MyDrive/GRU_model_01.keras')"
      ],
      "metadata": {
        "id": "C1oRnu4egrfi"
      },
      "execution_count": 17,
      "outputs": []
    },
    {
      "cell_type": "code",
      "source": [
        "y_pred = model.predict(X_test)"
      ],
      "metadata": {
        "colab": {
          "base_uri": "https://localhost:8080/"
        },
        "id": "OhFvQfnOs8jC",
        "outputId": "c4c41290-b454-42ee-ce5d-2ff04e037ea3"
      },
      "execution_count": 18,
      "outputs": [
        {
          "output_type": "stream",
          "name": "stdout",
          "text": [
            "11250/11250 [==============================] - 61s 5ms/step\n"
          ]
        }
      ]
    },
    {
      "cell_type": "code",
      "source": [
        "y_pred"
      ],
      "metadata": {
        "colab": {
          "base_uri": "https://localhost:8080/"
        },
        "id": "756fmyMvu1Xy",
        "outputId": "9f8936cd-cff3-4756-b928-66e685d2455d"
      },
      "execution_count": 21,
      "outputs": [
        {
          "output_type": "execute_result",
          "data": {
            "text/plain": [
              "array([[9.6605521e-01],\n",
              "       [8.8257205e-01],\n",
              "       [1.2397398e-02],\n",
              "       ...,\n",
              "       [2.1402750e-04],\n",
              "       [6.2543184e-02],\n",
              "       [4.6249591e-03]], dtype=float32)"
            ]
          },
          "metadata": {},
          "execution_count": 21
        }
      ]
    }
  ]
}