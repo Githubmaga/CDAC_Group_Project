{
  "nbformat": 4,
  "nbformat_minor": 0,
  "metadata": {
    "colab": {
      "provenance": [],
      "gpuType": "T4"
    },
    "kernelspec": {
      "name": "python3",
      "display_name": "Python 3"
    },
    "language_info": {
      "name": "python"
    },
    "accelerator": "GPU"
  },
  "cells": [
    {
      "cell_type": "code",
      "execution_count": 1,
      "metadata": {
        "id": "Y9UI_HwPNzik"
      },
      "outputs": [],
      "source": [
        "import numpy as np\n",
        "import pandas as pd\n",
        "from sklearn.model_selection import train_test_split\n",
        "from tensorflow.keras.preprocessing.text import Tokenizer\n",
        "from tensorflow.keras.preprocessing.sequence import pad_sequences\n",
        "from tensorflow.keras.models import Sequential\n",
        "from tensorflow.keras.layers import Embedding, GRU, Dense,Dropout\n",
        "from sklearn.feature_extraction.text import ENGLISH_STOP_WORDS"
      ]
    },
    {
      "cell_type": "code",
      "source": [
        "df=pd.read_csv('/content/drive/MyDrive/clothes.csv')"
      ],
      "metadata": {
        "id": "Gmjk8c4FOTzT"
      },
      "execution_count": 2,
      "outputs": []
    },
    {
      "cell_type": "code",
      "source": [
        "combined_df=df[0:290000]"
      ],
      "metadata": {
        "id": "kcynqFaFabqb"
      },
      "execution_count": 3,
      "outputs": []
    },
    {
      "cell_type": "code",
      "source": [
        "combined_df['class'].value_counts()"
      ],
      "metadata": {
        "id": "16adFwZ7OXMm",
        "colab": {
          "base_uri": "https://localhost:8080/"
        },
        "outputId": "0f4fb126-2659-4b7f-f126-7349fbdbe0c6"
      },
      "execution_count": 4,
      "outputs": [
        {
          "output_type": "execute_result",
          "data": {
            "text/plain": [
              "0    145010\n",
              "1    144990\n",
              "Name: class, dtype: int64"
            ]
          },
          "metadata": {},
          "execution_count": 4
        }
      ]
    },
    {
      "cell_type": "code",
      "source": [
        "X = combined_df['reviewText'].values\n",
        "y = combined_df['class'].values"
      ],
      "metadata": {
        "id": "VRQ5PobsOxOW"
      },
      "execution_count": 5,
      "outputs": []
    },
    {
      "cell_type": "code",
      "source": [
        "def preprocess_text(text):\n",
        "    # Remove stopwords\n",
        "    cleaned_text = ' '.join([word for word in text.split() if word.lower() not in ENGLISH_STOP_WORDS])\n",
        "    # Clean the text further as needed (e.g., removing punctuation, lowering, stemming, etc.)\n",
        "    cleaned_text = cleaned_text.lower()\n",
        "    # Return cleaned text\n",
        "    return cleaned_text"
      ],
      "metadata": {
        "id": "Y6ero6QlO128"
      },
      "execution_count": 6,
      "outputs": []
    },
    {
      "cell_type": "code",
      "source": [
        "X = [preprocess_text(text) for text in X]"
      ],
      "metadata": {
        "id": "rEd7vjchO4nu"
      },
      "execution_count": 7,
      "outputs": []
    },
    {
      "cell_type": "code",
      "source": [
        "# Tokenization\n",
        "max_words = 10000\n",
        "max_len = 100\n",
        "tokenizer = Tokenizer(num_words=max_words)\n",
        "tokenizer.fit_on_texts(X)\n",
        "X = tokenizer.texts_to_sequences(X)\n",
        "X= pad_sequences(X, maxlen=max_len)"
      ],
      "metadata": {
        "id": "domxIScZO8Au"
      },
      "execution_count": 8,
      "outputs": []
    },
    {
      "cell_type": "code",
      "source": [
        "# Train-test split\n",
        "X_train, X_test, y_train, y_test = train_test_split(X, y, test_size=0.2, random_state=42)"
      ],
      "metadata": {
        "id": "w41lKyQFPA_8"
      },
      "execution_count": 9,
      "outputs": []
    },
    {
      "cell_type": "code",
      "source": [
        "# Define your model\n",
        "embedding_dim = 50  # Dimension of the word embeddings\n",
        "gru_units = 64  # Number of units in the GRU layer\n",
        "\n",
        "model = Sequential([\n",
        "    Embedding(input_dim=len(tokenizer.word_index)+1,output_dim=128, input_length=max_len),\n",
        "    GRU(gru_units, return_sequences=True),\n",
        "    GRU(gru_units),\n",
        "    Dense(64, activation='relu'),\n",
        "    Dropout(0.5),\n",
        "    Dense(1, activation='sigmoid')\n",
        "])"
      ],
      "metadata": {
        "id": "-r0KG8XxPRjL"
      },
      "execution_count": 10,
      "outputs": []
    },
    {
      "cell_type": "code",
      "source": [
        "model.compile(optimizer='adam', loss='binary_crossentropy', metrics=['accuracy'])\n"
      ],
      "metadata": {
        "id": "qXu64_Y7QOUZ"
      },
      "execution_count": 11,
      "outputs": []
    },
    {
      "cell_type": "code",
      "source": [
        "model.summary()"
      ],
      "metadata": {
        "colab": {
          "base_uri": "https://localhost:8080/"
        },
        "id": "-tMLZDb-QufP",
        "outputId": "a60fda84-1952-4cfb-a7ab-3226bb01ddf3"
      },
      "execution_count": 12,
      "outputs": [
        {
          "output_type": "stream",
          "name": "stdout",
          "text": [
            "Model: \"sequential\"\n",
            "_________________________________________________________________\n",
            " Layer (type)                Output Shape              Param #   \n",
            "=================================================================\n",
            " embedding (Embedding)       (None, 100, 128)          13190400  \n",
            "                                                                 \n",
            " gru (GRU)                   (None, 100, 64)           37248     \n",
            "                                                                 \n",
            " gru_1 (GRU)                 (None, 64)                24960     \n",
            "                                                                 \n",
            " dense (Dense)               (None, 64)                4160      \n",
            "                                                                 \n",
            " dropout (Dropout)           (None, 64)                0         \n",
            "                                                                 \n",
            " dense_1 (Dense)             (None, 1)                 65        \n",
            "                                                                 \n",
            "=================================================================\n",
            "Total params: 13256833 (50.57 MB)\n",
            "Trainable params: 13256833 (50.57 MB)\n",
            "Non-trainable params: 0 (0.00 Byte)\n",
            "_________________________________________________________________\n"
          ]
        }
      ]
    },
    {
      "cell_type": "code",
      "source": [
        "# Train the model\n",
        "model.fit(X_train, y_train, epochs=5, batch_size=64, validation_data=(X_test, y_test))\n"
      ],
      "metadata": {
        "colab": {
          "base_uri": "https://localhost:8080/"
        },
        "id": "IbkCs-YmQwQS",
        "outputId": "0a9c7911-8a0f-4cc2-bda5-915b06c3a9bb"
      },
      "execution_count": 13,
      "outputs": [
        {
          "output_type": "stream",
          "name": "stdout",
          "text": [
            "Epoch 1/5\n",
            "3625/3625 [==============================] - 2154s 593ms/step - loss: 0.3685 - accuracy: 0.8406 - val_loss: 0.3230 - val_accuracy: 0.8609\n",
            "Epoch 2/5\n",
            "3625/3625 [==============================] - 2186s 603ms/step - loss: 0.3078 - accuracy: 0.8703 - val_loss: 0.3172 - val_accuracy: 0.8644\n",
            "Epoch 3/5\n",
            "3625/3625 [==============================] - 2232s 616ms/step - loss: 0.2750 - accuracy: 0.8858 - val_loss: 0.3242 - val_accuracy: 0.8628\n",
            "Epoch 4/5\n",
            "3625/3625 [==============================] - 2193s 605ms/step - loss: 0.2389 - accuracy: 0.9027 - val_loss: 0.3362 - val_accuracy: 0.8618\n",
            "Epoch 5/5\n",
            "3625/3625 [==============================] - 1989s 549ms/step - loss: 0.2005 - accuracy: 0.9192 - val_loss: 0.4034 - val_accuracy: 0.8573\n"
          ]
        },
        {
          "output_type": "execute_result",
          "data": {
            "text/plain": [
              "<keras.src.callbacks.History at 0x794c8a7b2500>"
            ]
          },
          "metadata": {},
          "execution_count": 13
        }
      ]
    },
    {
      "cell_type": "code",
      "source": [
        "loss, accuracy = model.evaluate(X_test, y_test)\n",
        "print(\"Test Accuracy:\", accuracy)"
      ],
      "metadata": {
        "colab": {
          "base_uri": "https://localhost:8080/"
        },
        "id": "QuaSt8HSQ10M",
        "outputId": "ef107f06-5f92-48bb-deed-d2d4398503a3"
      },
      "execution_count": 14,
      "outputs": [
        {
          "output_type": "stream",
          "name": "stdout",
          "text": [
            "1813/1813 [==============================] - 56s 31ms/step - loss: 0.4034 - accuracy: 0.8573\n",
            "Test Accuracy: 0.8573275804519653\n"
          ]
        }
      ]
    },
    {
      "cell_type": "code",
      "source": [],
      "metadata": {
        "id": "ERLu1gDUc17h"
      },
      "execution_count": 14,
      "outputs": []
    },
    {
      "cell_type": "code",
      "source": [
        "x1=df['reviewText']\n",
        "x1=x1[295070:295071]\n",
        "x1"
      ],
      "metadata": {
        "colab": {
          "base_uri": "https://localhost:8080/"
        },
        "id": "GhIkPjwsYBr8",
        "outputId": "1cf3dfb6-3c89-426d-b8a6-50de95fc6145"
      },
      "execution_count": 15,
      "outputs": [
        {
          "output_type": "execute_result",
          "data": {
            "text/plain": [
              "295070    I purchased these based on the reviews and des...\n",
              "Name: reviewText, dtype: object"
            ]
          },
          "metadata": {},
          "execution_count": 15
        }
      ]
    },
    {
      "cell_type": "code",
      "source": [
        "x1=[preprocess_text(text) for text in x1]\n",
        "tokenizer.fit_on_texts(x1)\n",
        "x1 = tokenizer.texts_to_sequences(x1)\n",
        "x1 = pad_sequences(x1, maxlen=max_len)"
      ],
      "metadata": {
        "id": "ZsnQYuJVe7I2"
      },
      "execution_count": 16,
      "outputs": []
    },
    {
      "cell_type": "code",
      "source": [
        "predictions=model.predict(x1)\n",
        "predictions"
      ],
      "metadata": {
        "colab": {
          "base_uri": "https://localhost:8080/"
        },
        "id": "ObZvwHRSYGUI",
        "outputId": "58adaa1c-aa7f-44d6-d82b-0f1f798267dd"
      },
      "execution_count": 17,
      "outputs": [
        {
          "output_type": "stream",
          "name": "stdout",
          "text": [
            "1/1 [==============================] - 1s 796ms/step\n"
          ]
        },
        {
          "output_type": "execute_result",
          "data": {
            "text/plain": [
              "array([[0.0020034]], dtype=float32)"
            ]
          },
          "metadata": {},
          "execution_count": 17
        }
      ]
    },
    {
      "cell_type": "code",
      "source": [
        "binary_predictions = [1 if pred > 0.5 else 0 for pred in predictions]\n",
        "\n",
        "# Print predicted labels\n",
        "print(\"Predicted Labels:\", binary_predictions)"
      ],
      "metadata": {
        "colab": {
          "base_uri": "https://localhost:8080/"
        },
        "id": "YAtREsZ8YOEh",
        "outputId": "bce9acfc-111e-41cc-82a9-f3f2e6f834d1"
      },
      "execution_count": 18,
      "outputs": [
        {
          "output_type": "stream",
          "name": "stdout",
          "text": [
            "Predicted Labels: [0]\n"
          ]
        }
      ]
    },
    {
      "cell_type": "code",
      "source": [
        "model.save('gru_model.h5')\n",
        "# Download the saved model file from Google Colab to your local machine\n",
        "from google.colab import files\n",
        "files.download('gru_model.h5')"
      ],
      "metadata": {
        "id": "LntCQlP0YTt6"
      },
      "execution_count": 18,
      "outputs": []
    },
    {
      "cell_type": "code",
      "source": [],
      "metadata": {
        "id": "P6j6pKE67Ci-"
      },
      "execution_count": null,
      "outputs": []
    }
  ]
}